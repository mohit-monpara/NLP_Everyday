{
 "cells": [
  {
   "cell_type": "code",
   "execution_count": 1,
   "metadata": {
    "scrolled": true
   },
   "outputs": [],
   "source": [
    "# !python3 -m spacy download en\n",
    "# !python -m spacy download en\n",
    "# !python -m spacy download en_core_web_sm\n",
    "# !pip3 install gensim\n",
    "# !python -m pip install -U gensim\n",
    "# !pip install gensim\n",
    "import nltk\n",
    "# nltk.download('stopwords')\n",
    "# nltk.download('wordnet')"
   ]
  },
  {
   "cell_type": "code",
   "execution_count": 2,
   "metadata": {},
   "outputs": [],
   "source": [
    "import pandas as pd\n",
    "import numpy as np\n",
    "from multiprocessing import Pool\n",
    "from nltk.corpus import stopwords\n",
    "import spacy\n",
    "import scipy  \n",
    "from scipy import spatial\n",
    "from scipy.spatial.distance import pdist, squareform \n",
    "spacy_nlp = spacy.load('en_core_web_sm')\n",
    "import gensim\n",
    "import os\n",
    "import re\n",
    "from gensim.models.wrappers import LdaMallet\n",
    "import unicodedata\n",
    "import gensim\n",
    "from gensim.utils import simple_preprocess\n",
    "from gensim.parsing.preprocessing import STOPWORDS\n",
    "from nltk.stem import WordNetLemmatizer, SnowballStemmer\n",
    "from nltk.stem.porter import *\n",
    "import torch.multiprocessing as mp\n",
    "stemmer = SnowballStemmer(\"english\")"
   ]
  },
  {
   "cell_type": "code",
   "execution_count": 3,
   "metadata": {},
   "outputs": [
    {
     "data": {
      "text/html": [
       "<div>\n",
       "<style scoped>\n",
       "    .dataframe tbody tr th:only-of-type {\n",
       "        vertical-align: middle;\n",
       "    }\n",
       "\n",
       "    .dataframe tbody tr th {\n",
       "        vertical-align: top;\n",
       "    }\n",
       "\n",
       "    .dataframe thead th {\n",
       "        text-align: right;\n",
       "    }\n",
       "</style>\n",
       "<table border=\"1\" class=\"dataframe\">\n",
       "  <thead>\n",
       "    <tr style=\"text-align: right;\">\n",
       "      <th></th>\n",
       "      <th>company_name</th>\n",
       "      <th>company_short_description</th>\n",
       "      <th>company_description</th>\n",
       "    </tr>\n",
       "  </thead>\n",
       "  <tbody>\n",
       "    <tr>\n",
       "      <th>0</th>\n",
       "      <td>Codementor</td>\n",
       "      <td>Codementor is an online marketplace connecting...</td>\n",
       "      <td>Codementor provides live 1:1 help for software...</td>\n",
       "    </tr>\n",
       "    <tr>\n",
       "      <th>1</th>\n",
       "      <td>AgShift</td>\n",
       "      <td>AgShift is designing world's most advanced aut...</td>\n",
       "      <td>AgShift solution blends Deep Learning with Com...</td>\n",
       "    </tr>\n",
       "    <tr>\n",
       "      <th>2</th>\n",
       "      <td>Shipsi</td>\n",
       "      <td>Shipsi empowers any retailer with the ability ...</td>\n",
       "      <td>Shipsi empowers any retailer with the ability ...</td>\n",
       "    </tr>\n",
       "    <tr>\n",
       "      <th>3</th>\n",
       "      <td>OpenNews</td>\n",
       "      <td>OpenNews helps a global network of developers,...</td>\n",
       "      <td>We're helping a global network of developers, ...</td>\n",
       "    </tr>\n",
       "    <tr>\n",
       "      <th>4</th>\n",
       "      <td>Biobot Analytics</td>\n",
       "      <td>Biobot Analytics analyzes city sewage to estim...</td>\n",
       "      <td>Biobot Analytics analyzes sewage to estimate o...</td>\n",
       "    </tr>\n",
       "  </tbody>\n",
       "</table>\n",
       "</div>"
      ],
      "text/plain": [
       "       company_name                          company_short_description  \\\n",
       "0        Codementor  Codementor is an online marketplace connecting...   \n",
       "1           AgShift  AgShift is designing world's most advanced aut...   \n",
       "2            Shipsi  Shipsi empowers any retailer with the ability ...   \n",
       "3          OpenNews  OpenNews helps a global network of developers,...   \n",
       "4  Biobot Analytics  Biobot Analytics analyzes city sewage to estim...   \n",
       "\n",
       "                                 company_description  \n",
       "0  Codementor provides live 1:1 help for software...  \n",
       "1  AgShift solution blends Deep Learning with Com...  \n",
       "2  Shipsi empowers any retailer with the ability ...  \n",
       "3  We're helping a global network of developers, ...  \n",
       "4  Biobot Analytics analyzes sewage to estimate o...  "
      ]
     },
     "metadata": {},
     "output_type": "display_data"
    },
    {
     "data": {
      "text/plain": [
       "(19965, 3)"
      ]
     },
     "metadata": {},
     "output_type": "display_data"
    }
   ],
   "source": [
    "cmp_desc = pd.read_csv('Company Descriptions.csv')\n",
    "display(cmp_desc.head(), cmp_desc.shape)"
   ]
  },
  {
   "cell_type": "code",
   "execution_count": 4,
   "metadata": {},
   "outputs": [],
   "source": [
    "# First 1000 Instances\n",
    "cmp_desc = cmp_desc.head(1000)\n",
    "cmp_desc = cmp_desc.reset_index(drop=True)"
   ]
  },
  {
   "cell_type": "code",
   "execution_count": 5,
   "metadata": {},
   "outputs": [
    {
     "data": {
      "text/html": [
       "<div>\n",
       "<style scoped>\n",
       "    .dataframe tbody tr th:only-of-type {\n",
       "        vertical-align: middle;\n",
       "    }\n",
       "\n",
       "    .dataframe tbody tr th {\n",
       "        vertical-align: top;\n",
       "    }\n",
       "\n",
       "    .dataframe thead th {\n",
       "        text-align: right;\n",
       "    }\n",
       "</style>\n",
       "<table border=\"1\" class=\"dataframe\">\n",
       "  <thead>\n",
       "    <tr style=\"text-align: right;\">\n",
       "      <th></th>\n",
       "      <th>company_name</th>\n",
       "      <th>company_short_description</th>\n",
       "      <th>company_description</th>\n",
       "    </tr>\n",
       "  </thead>\n",
       "  <tbody>\n",
       "    <tr>\n",
       "      <th>0</th>\n",
       "      <td>Codementor</td>\n",
       "      <td>Codementor is an online marketplace connecting...</td>\n",
       "      <td>Codementor provides live 1:1 help for software...</td>\n",
       "    </tr>\n",
       "  </tbody>\n",
       "</table>\n",
       "</div>"
      ],
      "text/plain": [
       "  company_name                          company_short_description  \\\n",
       "0   Codementor  Codementor is an online marketplace connecting...   \n",
       "\n",
       "                                 company_description  \n",
       "0  Codementor provides live 1:1 help for software...  "
      ]
     },
     "execution_count": 5,
     "metadata": {},
     "output_type": "execute_result"
    }
   ],
   "source": [
    "cmp_desc.head(1)"
   ]
  },
  {
   "cell_type": "code",
   "execution_count": 6,
   "metadata": {},
   "outputs": [],
   "source": [
    "def white_space(string):\n",
    "    return \" \".join(string.split())"
   ]
  },
  {
   "cell_type": "code",
   "execution_count": 7,
   "metadata": {},
   "outputs": [],
   "source": [
    "for i in range(cmp_desc.shape[0]):\n",
    "#     print(cmp_desc['company_description'][i])\n",
    "    cmp_desc['company_description'][i] = white_space(str(cmp_desc['company_description'][i]))\n",
    "    cmp_desc['company_short_description'][i] = white_space(str(cmp_desc['company_short_description'][i]))"
   ]
  },
  {
   "cell_type": "code",
   "execution_count": 8,
   "metadata": {},
   "outputs": [
    {
     "data": {
      "text/plain": [
       "0    Codementor provides live 1:1 help for software...\n",
       "1    AgShift solution blends Deep Learning with Com...\n",
       "2    Shipsi empowers any retailer with the ability ...\n",
       "3    We're helping a global network of developers, ...\n",
       "4    Biobot Analytics analyzes sewage to estimate o...\n",
       "Name: company_description, dtype: object"
      ]
     },
     "execution_count": 8,
     "metadata": {},
     "output_type": "execute_result"
    }
   ],
   "source": [
    "cmp_desc['company_description'].head()"
   ]
  },
  {
   "cell_type": "code",
   "execution_count": 9,
   "metadata": {},
   "outputs": [
    {
     "data": {
      "text/plain": [
       "(1000, 3)"
      ]
     },
     "execution_count": 9,
     "metadata": {},
     "output_type": "execute_result"
    }
   ],
   "source": [
    "cmp_desc.shape"
   ]
  },
  {
   "cell_type": "code",
   "execution_count": 10,
   "metadata": {
    "scrolled": true
   },
   "outputs": [],
   "source": [
    "# Data Cleaning\n",
    "\n",
    "cmp_desc['len_text_company_description'] = None\n",
    "cmp_desc['len_text_company_short_description'] = None\n",
    "\n",
    "for i in range(cmp_desc.shape[0]):\n",
    "    cmp_desc['len_text_company_description'][i] = len(str(cmp_desc['company_description'][i]).split())\n",
    "    cmp_desc['len_text_company_short_description'][i] = len(str(cmp_desc['company_short_description'][i]).split())"
   ]
  },
  {
   "cell_type": "code",
   "execution_count": 11,
   "metadata": {},
   "outputs": [
    {
     "data": {
      "text/plain": [
       "432"
      ]
     },
     "execution_count": 11,
     "metadata": {},
     "output_type": "execute_result"
    }
   ],
   "source": [
    "cmp_desc['len_text_company_description'].max()"
   ]
  },
  {
   "cell_type": "code",
   "execution_count": 12,
   "metadata": {},
   "outputs": [
    {
     "data": {
      "text/plain": [
       "1"
      ]
     },
     "execution_count": 12,
     "metadata": {},
     "output_type": "execute_result"
    }
   ],
   "source": [
    "cmp_desc['len_text_company_description'].min()"
   ]
  },
  {
   "cell_type": "code",
   "execution_count": 13,
   "metadata": {},
   "outputs": [
    {
     "data": {
      "text/html": [
       "<div>\n",
       "<style scoped>\n",
       "    .dataframe tbody tr th:only-of-type {\n",
       "        vertical-align: middle;\n",
       "    }\n",
       "\n",
       "    .dataframe tbody tr th {\n",
       "        vertical-align: top;\n",
       "    }\n",
       "\n",
       "    .dataframe thead th {\n",
       "        text-align: right;\n",
       "    }\n",
       "</style>\n",
       "<table border=\"1\" class=\"dataframe\">\n",
       "  <thead>\n",
       "    <tr style=\"text-align: right;\">\n",
       "      <th></th>\n",
       "      <th>company_name</th>\n",
       "      <th>company_short_description</th>\n",
       "      <th>company_description</th>\n",
       "      <th>len_text_company_description</th>\n",
       "      <th>len_text_company_short_description</th>\n",
       "    </tr>\n",
       "  </thead>\n",
       "  <tbody>\n",
       "    <tr>\n",
       "      <th>0</th>\n",
       "      <td>Codementor</td>\n",
       "      <td>Codementor is an online marketplace connecting...</td>\n",
       "      <td>Codementor provides live 1:1 help for software...</td>\n",
       "      <td>73</td>\n",
       "      <td>20</td>\n",
       "    </tr>\n",
       "    <tr>\n",
       "      <th>1</th>\n",
       "      <td>AgShift</td>\n",
       "      <td>AgShift is designing world's most advanced aut...</td>\n",
       "      <td>AgShift solution blends Deep Learning with Com...</td>\n",
       "      <td>98</td>\n",
       "      <td>13</td>\n",
       "    </tr>\n",
       "    <tr>\n",
       "      <th>2</th>\n",
       "      <td>Shipsi</td>\n",
       "      <td>Shipsi empowers any retailer with the ability ...</td>\n",
       "      <td>Shipsi empowers any retailer with the ability ...</td>\n",
       "      <td>49</td>\n",
       "      <td>18</td>\n",
       "    </tr>\n",
       "    <tr>\n",
       "      <th>3</th>\n",
       "      <td>OpenNews</td>\n",
       "      <td>OpenNews helps a global network of developers,...</td>\n",
       "      <td>We're helping a global network of developers, ...</td>\n",
       "      <td>42</td>\n",
       "      <td>18</td>\n",
       "    </tr>\n",
       "    <tr>\n",
       "      <th>4</th>\n",
       "      <td>Biobot Analytics</td>\n",
       "      <td>Biobot Analytics analyzes city sewage to estim...</td>\n",
       "      <td>Biobot Analytics analyzes sewage to estimate o...</td>\n",
       "      <td>92</td>\n",
       "      <td>9</td>\n",
       "    </tr>\n",
       "  </tbody>\n",
       "</table>\n",
       "</div>"
      ],
      "text/plain": [
       "       company_name                          company_short_description  \\\n",
       "0        Codementor  Codementor is an online marketplace connecting...   \n",
       "1           AgShift  AgShift is designing world's most advanced aut...   \n",
       "2            Shipsi  Shipsi empowers any retailer with the ability ...   \n",
       "3          OpenNews  OpenNews helps a global network of developers,...   \n",
       "4  Biobot Analytics  Biobot Analytics analyzes city sewage to estim...   \n",
       "\n",
       "                                 company_description  \\\n",
       "0  Codementor provides live 1:1 help for software...   \n",
       "1  AgShift solution blends Deep Learning with Com...   \n",
       "2  Shipsi empowers any retailer with the ability ...   \n",
       "3  We're helping a global network of developers, ...   \n",
       "4  Biobot Analytics analyzes sewage to estimate o...   \n",
       "\n",
       "  len_text_company_description len_text_company_short_description  \n",
       "0                           73                                 20  \n",
       "1                           98                                 13  \n",
       "2                           49                                 18  \n",
       "3                           42                                 18  \n",
       "4                           92                                  9  "
      ]
     },
     "execution_count": 13,
     "metadata": {},
     "output_type": "execute_result"
    }
   ],
   "source": [
    "cmp_desc.head()"
   ]
  },
  {
   "cell_type": "code",
   "execution_count": 14,
   "metadata": {},
   "outputs": [],
   "source": [
    "cmp_desc['final_company_description'] = None\n",
    "for i in range(cmp_desc.shape[0]):\n",
    "    if (cmp_desc['len_text_company_description'][i] >= cmp_desc['len_text_company_short_description'][i]):\n",
    "        cmp_desc['final_company_description'][i] = cmp_desc['company_description'][i]\n",
    "    elif cmp_desc['len_text_company_description'][i] < cmp_desc['len_text_company_short_description'][i]:\n",
    "        cmp_desc['final_company_description'][i] = cmp_desc['company_short_description'][i]"
   ]
  },
  {
   "cell_type": "code",
   "execution_count": 15,
   "metadata": {
    "scrolled": true
   },
   "outputs": [
    {
     "data": {
      "text/html": [
       "<div>\n",
       "<style scoped>\n",
       "    .dataframe tbody tr th:only-of-type {\n",
       "        vertical-align: middle;\n",
       "    }\n",
       "\n",
       "    .dataframe tbody tr th {\n",
       "        vertical-align: top;\n",
       "    }\n",
       "\n",
       "    .dataframe thead th {\n",
       "        text-align: right;\n",
       "    }\n",
       "</style>\n",
       "<table border=\"1\" class=\"dataframe\">\n",
       "  <thead>\n",
       "    <tr style=\"text-align: right;\">\n",
       "      <th></th>\n",
       "      <th>company_name</th>\n",
       "      <th>company_short_description</th>\n",
       "      <th>company_description</th>\n",
       "      <th>len_text_company_description</th>\n",
       "      <th>len_text_company_short_description</th>\n",
       "      <th>final_company_description</th>\n",
       "    </tr>\n",
       "  </thead>\n",
       "  <tbody>\n",
       "    <tr>\n",
       "      <th>0</th>\n",
       "      <td>Codementor</td>\n",
       "      <td>Codementor is an online marketplace connecting...</td>\n",
       "      <td>Codementor provides live 1:1 help for software...</td>\n",
       "      <td>73</td>\n",
       "      <td>20</td>\n",
       "      <td>Codementor provides live 1:1 help for software...</td>\n",
       "    </tr>\n",
       "    <tr>\n",
       "      <th>1</th>\n",
       "      <td>AgShift</td>\n",
       "      <td>AgShift is designing world's most advanced aut...</td>\n",
       "      <td>AgShift solution blends Deep Learning with Com...</td>\n",
       "      <td>98</td>\n",
       "      <td>13</td>\n",
       "      <td>AgShift solution blends Deep Learning with Com...</td>\n",
       "    </tr>\n",
       "    <tr>\n",
       "      <th>2</th>\n",
       "      <td>Shipsi</td>\n",
       "      <td>Shipsi empowers any retailer with the ability ...</td>\n",
       "      <td>Shipsi empowers any retailer with the ability ...</td>\n",
       "      <td>49</td>\n",
       "      <td>18</td>\n",
       "      <td>Shipsi empowers any retailer with the ability ...</td>\n",
       "    </tr>\n",
       "    <tr>\n",
       "      <th>3</th>\n",
       "      <td>OpenNews</td>\n",
       "      <td>OpenNews helps a global network of developers,...</td>\n",
       "      <td>We're helping a global network of developers, ...</td>\n",
       "      <td>42</td>\n",
       "      <td>18</td>\n",
       "      <td>We're helping a global network of developers, ...</td>\n",
       "    </tr>\n",
       "    <tr>\n",
       "      <th>4</th>\n",
       "      <td>Biobot Analytics</td>\n",
       "      <td>Biobot Analytics analyzes city sewage to estim...</td>\n",
       "      <td>Biobot Analytics analyzes sewage to estimate o...</td>\n",
       "      <td>92</td>\n",
       "      <td>9</td>\n",
       "      <td>Biobot Analytics analyzes sewage to estimate o...</td>\n",
       "    </tr>\n",
       "  </tbody>\n",
       "</table>\n",
       "</div>"
      ],
      "text/plain": [
       "       company_name                          company_short_description  \\\n",
       "0        Codementor  Codementor is an online marketplace connecting...   \n",
       "1           AgShift  AgShift is designing world's most advanced aut...   \n",
       "2            Shipsi  Shipsi empowers any retailer with the ability ...   \n",
       "3          OpenNews  OpenNews helps a global network of developers,...   \n",
       "4  Biobot Analytics  Biobot Analytics analyzes city sewage to estim...   \n",
       "\n",
       "                                 company_description  \\\n",
       "0  Codementor provides live 1:1 help for software...   \n",
       "1  AgShift solution blends Deep Learning with Com...   \n",
       "2  Shipsi empowers any retailer with the ability ...   \n",
       "3  We're helping a global network of developers, ...   \n",
       "4  Biobot Analytics analyzes sewage to estimate o...   \n",
       "\n",
       "  len_text_company_description len_text_company_short_description  \\\n",
       "0                           73                                 20   \n",
       "1                           98                                 13   \n",
       "2                           49                                 18   \n",
       "3                           42                                 18   \n",
       "4                           92                                  9   \n",
       "\n",
       "                           final_company_description  \n",
       "0  Codementor provides live 1:1 help for software...  \n",
       "1  AgShift solution blends Deep Learning with Com...  \n",
       "2  Shipsi empowers any retailer with the ability ...  \n",
       "3  We're helping a global network of developers, ...  \n",
       "4  Biobot Analytics analyzes sewage to estimate o...  "
      ]
     },
     "metadata": {},
     "output_type": "display_data"
    },
    {
     "data": {
      "text/plain": [
       "(1000, 6)"
      ]
     },
     "metadata": {},
     "output_type": "display_data"
    }
   ],
   "source": [
    "display(cmp_desc.head(), cmp_desc.shape)"
   ]
  },
  {
   "cell_type": "code",
   "execution_count": 16,
   "metadata": {},
   "outputs": [],
   "source": [
    "def remove_html(text):\n",
    "    new_text = re.sub(r'''(?i)\\b((?:https?://|www\\d{0,3}[.]|[a-z0-9.\\-]+[.][a-z]{2,4}/)(?:[^\\s()<>]+|\\(([^\\s()<>]+|(\\([^\\s()<>]+\\)))*\\))+(?:\\(([^\\s()<>]+|(\\([^\\s()<>]+\\)))*\\)|[^\\s`!()\\[\\]{};:'\".,<>?«»“”‘’]))''', \"\", text)\n",
    "    return(new_text)\n",
    "\n",
    "\n",
    "# Removing the Accented Chars\n",
    "def remove_accented_chars(text):\n",
    "    text = unicodedata.normalize('NFKD', text).encode('ascii', 'ignore').decode('utf-8', 'ignore')\n",
    "    return text\n",
    "\n",
    "\n",
    "# Removing Special characters\n",
    "def remove_special_characters(text):\n",
    "    pattern = r'[^a-zA-z0-9\\s*.]' \n",
    "    text = re.sub(pattern, '', text)\n",
    "    \n",
    "    return text\n",
    "\n",
    "# Removing the stop words\n",
    "spacy_stopwords = spacy.lang.en.stop_words.STOP_WORDS\n",
    "def remove_stopwords(text):\n",
    "    doc = spacy_nlp(text)\n",
    "    text = [token.text for token in doc if not token.is_stop]\n",
    "    text = ' '.join(text)\n",
    "    pattern = re.compile(r'\\b(' + r'|'.join(stopwords.words('english')) + r')\\b\\s*')\n",
    "    text = pattern.sub('', text)\n",
    "    \n",
    "    return text\n",
    "\n",
    "def lemmatize_stemming(text):\n",
    "    return stemmer.stem(WordNetLemmatizer().lemmatize(text, pos='v'))\n",
    "\n",
    "# Tokenize and lemmatize\n",
    "def lemma_preprocess(text):\n",
    "    result=[]\n",
    "    for token in gensim.utils.simple_preprocess(text) :\n",
    "        if token not in gensim.parsing.preprocessing.STOPWORDS and len(token) > 3:\n",
    "            result.append(lemmatize_stemming(token))\n",
    "            \n",
    "    return result"
   ]
  },
  {
   "cell_type": "code",
   "execution_count": 17,
   "metadata": {},
   "outputs": [],
   "source": [
    "def wrangle_data(doc, url_removal = False, accented_removal = False,\n",
    "                 special_char = False, lower_doc = False, lemma_words = False, stopwords_removal = False):\n",
    "    \n",
    "    counter=0\n",
    "\n",
    "    counter = counter+1\n",
    "\n",
    "    # Removing URL's\n",
    "    if url_removal:\n",
    "        doc = remove_html(doc)\n",
    "\n",
    "    # Removing accented Characters\n",
    "    if accented_removal:\n",
    "        doc = remove_accented_chars(doc)\n",
    "\n",
    "    # Lowering the words\n",
    "    if lower_doc:\n",
    "        doc = doc.lower()\n",
    "        doc = doc.replace('.', ' . ', doc.count('.')).replace(',', ' , ', doc.count(','))\n",
    "\n",
    "\n",
    "    # Removing Special Character\n",
    "    if special_char:\n",
    "        doc = doc.replace('$', '')\n",
    "        doc = doc.replace('%', '')\n",
    "        doc = doc.replace('\\t', '')\n",
    "        doc = re.sub('\\s+', ' ', doc).strip()\n",
    "\n",
    "        # insert spaces between special characters to isolate them    \n",
    "        doc = remove_special_characters(doc)\n",
    "\n",
    "        # Remove extra whitespaces\n",
    "        doc = re.sub(' +', ' ', doc)\n",
    "\n",
    "    #  Removing Stop-words\n",
    "    if stopwords_removal:\n",
    "        doc = remove_stopwords(doc)\n",
    "\n",
    "\n",
    "    # Lemmantisation \n",
    "    if lemma_words:\n",
    "        doc = lemma_preprocess(doc)\n",
    "\n",
    "    return doc"
   ]
  },
  {
   "cell_type": "code",
   "execution_count": 18,
   "metadata": {},
   "outputs": [
    {
     "name": "stdout",
     "output_type": "stream",
     "text": [
      "1000\n"
     ]
    }
   ],
   "source": [
    "df_list_pos = [i for i in range(cmp_desc.shape[0])]\n",
    "print(len(df_list_pos))"
   ]
  },
  {
   "cell_type": "code",
   "execution_count": 19,
   "metadata": {
    "scrolled": true
   },
   "outputs": [],
   "source": [
    "# Multi-processing\n",
    "\n",
    "cmp_desc['wrangled_description'] = None\n",
    "\n",
    "def get_position(doc_num):\n",
    "    pos_value=[]\n",
    "    pos_value.append(wrangle_data(cmp_desc['final_company_description'][doc_num], url_removal=True, \\\n",
    "                                    lower_doc=True, stopwords_removal = True, accented_removal = True,\\\n",
    "                                    lemma_words=True))\n",
    "    return pos_value \n",
    "\n",
    "pool = mp.Pool(processes=4)\n",
    "pos_result_collab = pool.map(get_position, (df_list_pos))\n",
    "pos_result_collab = [item for sublist in pos_result_collab for item in sublist]\n",
    "cmp_desc['wrangled_description'] = pos_result_collab\n",
    "pool.close()"
   ]
  },
  {
   "cell_type": "code",
   "execution_count": 20,
   "metadata": {},
   "outputs": [
    {
     "data": {
      "text/html": [
       "<div>\n",
       "<style scoped>\n",
       "    .dataframe tbody tr th:only-of-type {\n",
       "        vertical-align: middle;\n",
       "    }\n",
       "\n",
       "    .dataframe tbody tr th {\n",
       "        vertical-align: top;\n",
       "    }\n",
       "\n",
       "    .dataframe thead th {\n",
       "        text-align: right;\n",
       "    }\n",
       "</style>\n",
       "<table border=\"1\" class=\"dataframe\">\n",
       "  <thead>\n",
       "    <tr style=\"text-align: right;\">\n",
       "      <th></th>\n",
       "      <th>company_name</th>\n",
       "      <th>company_short_description</th>\n",
       "      <th>company_description</th>\n",
       "      <th>len_text_company_description</th>\n",
       "      <th>len_text_company_short_description</th>\n",
       "      <th>final_company_description</th>\n",
       "      <th>wrangled_description</th>\n",
       "    </tr>\n",
       "  </thead>\n",
       "  <tbody>\n",
       "    <tr>\n",
       "      <th>0</th>\n",
       "      <td>Codementor</td>\n",
       "      <td>Codementor is an online marketplace connecting...</td>\n",
       "      <td>Codementor provides live 1:1 help for software...</td>\n",
       "      <td>73</td>\n",
       "      <td>20</td>\n",
       "      <td>Codementor provides live 1:1 help for software...</td>\n",
       "      <td>[codementor, provid, live, help, softwar, deve...</td>\n",
       "    </tr>\n",
       "    <tr>\n",
       "      <th>1</th>\n",
       "      <td>AgShift</td>\n",
       "      <td>AgShift is designing world's most advanced aut...</td>\n",
       "      <td>AgShift solution blends Deep Learning with Com...</td>\n",
       "      <td>98</td>\n",
       "      <td>13</td>\n",
       "      <td>AgShift solution blends Deep Learning with Com...</td>\n",
       "      <td>[agshift, solut, blend, deep, learn, vision, a...</td>\n",
       "    </tr>\n",
       "    <tr>\n",
       "      <th>2</th>\n",
       "      <td>Shipsi</td>\n",
       "      <td>Shipsi empowers any retailer with the ability ...</td>\n",
       "      <td>Shipsi empowers any retailer with the ability ...</td>\n",
       "      <td>49</td>\n",
       "      <td>18</td>\n",
       "      <td>Shipsi empowers any retailer with the ability ...</td>\n",
       "      <td>[shipsi, empow, retail, abil, offer, easi, ins...</td>\n",
       "    </tr>\n",
       "    <tr>\n",
       "      <th>3</th>\n",
       "      <td>OpenNews</td>\n",
       "      <td>OpenNews helps a global network of developers,...</td>\n",
       "      <td>We're helping a global network of developers, ...</td>\n",
       "      <td>42</td>\n",
       "      <td>18</td>\n",
       "      <td>We're helping a global network of developers, ...</td>\n",
       "      <td>[help, global, network, develop, journalist, m...</td>\n",
       "    </tr>\n",
       "    <tr>\n",
       "      <th>4</th>\n",
       "      <td>Biobot Analytics</td>\n",
       "      <td>Biobot Analytics analyzes city sewage to estim...</td>\n",
       "      <td>Biobot Analytics analyzes sewage to estimate o...</td>\n",
       "      <td>92</td>\n",
       "      <td>9</td>\n",
       "      <td>Biobot Analytics analyzes sewage to estimate o...</td>\n",
       "      <td>[biobot, analyt, analyz, sewag, estim, opioid,...</td>\n",
       "    </tr>\n",
       "  </tbody>\n",
       "</table>\n",
       "</div>"
      ],
      "text/plain": [
       "       company_name                          company_short_description  \\\n",
       "0        Codementor  Codementor is an online marketplace connecting...   \n",
       "1           AgShift  AgShift is designing world's most advanced aut...   \n",
       "2            Shipsi  Shipsi empowers any retailer with the ability ...   \n",
       "3          OpenNews  OpenNews helps a global network of developers,...   \n",
       "4  Biobot Analytics  Biobot Analytics analyzes city sewage to estim...   \n",
       "\n",
       "                                 company_description  \\\n",
       "0  Codementor provides live 1:1 help for software...   \n",
       "1  AgShift solution blends Deep Learning with Com...   \n",
       "2  Shipsi empowers any retailer with the ability ...   \n",
       "3  We're helping a global network of developers, ...   \n",
       "4  Biobot Analytics analyzes sewage to estimate o...   \n",
       "\n",
       "  len_text_company_description len_text_company_short_description  \\\n",
       "0                           73                                 20   \n",
       "1                           98                                 13   \n",
       "2                           49                                 18   \n",
       "3                           42                                 18   \n",
       "4                           92                                  9   \n",
       "\n",
       "                           final_company_description  \\\n",
       "0  Codementor provides live 1:1 help for software...   \n",
       "1  AgShift solution blends Deep Learning with Com...   \n",
       "2  Shipsi empowers any retailer with the ability ...   \n",
       "3  We're helping a global network of developers, ...   \n",
       "4  Biobot Analytics analyzes sewage to estimate o...   \n",
       "\n",
       "                                wrangled_description  \n",
       "0  [codementor, provid, live, help, softwar, deve...  \n",
       "1  [agshift, solut, blend, deep, learn, vision, a...  \n",
       "2  [shipsi, empow, retail, abil, offer, easi, ins...  \n",
       "3  [help, global, network, develop, journalist, m...  \n",
       "4  [biobot, analyt, analyz, sewag, estim, opioid,...  "
      ]
     },
     "execution_count": 20,
     "metadata": {},
     "output_type": "execute_result"
    }
   ],
   "source": [
    "cmp_desc.head()"
   ]
  },
  {
   "cell_type": "code",
   "execution_count": 21,
   "metadata": {},
   "outputs": [
    {
     "name": "stdout",
     "output_type": "stream",
     "text": [
      "1000\n",
      "[['codementor', 'provid', 'live', 'help', 'softwar', 'develop', 'make', 'easi', 'develop', 'connect', 'expert', 'screen', 'share', 'video', 'chat', 'way', 'help', 'demand', 'live', 'expert', 'help', 'long', 'term', 'dedic', 'mentorship', 'build', 'project', 'faster', 'demand', 'help', 'topic', 'includ', 'rubi', 'python', 'javascript', 'html', 'swift', 'codementor', 'help', 'overcom', 'challeng', 'time', 'advic', 'speed', 'develop', 'process'], ['agshift', 'solut', 'blend', 'deep', 'learn', 'vision', 'autonom', 'inspect', 'produc', 'commod', 'defect', 'qualiti', 'assess', 'make', 'judgement', 'usda', 'specif', 'organ', 'specif', 'patent', 'deep', 'learn', 'model', 'analyz', 'defect', 'sampl', 'imag', 'predict', 'overal', 'qualiti', 'sampl', 'platform', 'reli', 'curat', 'extens', 'real', 'world', 'imag', 'data', 'set', 'teach', 'softwar', 'analyz', 'defect', 'high', 'consist', 'accuraci', 'time', 'solut', 'augment', 'manual', 'inspect', 'provid', 'object', 'consist', 'standard', 'qualiti', 'interpret', 'suppli', 'chain', 'singl', 'time']]\n"
     ]
    }
   ],
   "source": [
    "wrangled_docs = cmp_desc['wrangled_description'].to_list()\n",
    "print(len(wrangled_docs))\n",
    "print(wrangled_docs[:2])"
   ]
  },
  {
   "cell_type": "markdown",
   "metadata": {},
   "source": [
    "# Step 3: Bag of words on the dataset\n",
    "\n",
    "Now let's create a dictionary from 'processed_docs' containing the number of times a word appears in the training set. To do that, let's pass processed_docs to gensim.corpora.Dictionary() and call it 'dictionary'."
   ]
  },
  {
   "cell_type": "code",
   "execution_count": 22,
   "metadata": {},
   "outputs": [],
   "source": [
    "'''\n",
    "Create a dictionary from 'processed_docs' containing the number of times a word appears \n",
    "in the training set using gensim.corpora.Dictionary and call it 'dictionary'\n",
    "'''\n",
    "dictionary = gensim.corpora.Dictionary(wrangled_docs)"
   ]
  },
  {
   "cell_type": "code",
   "execution_count": 23,
   "metadata": {},
   "outputs": [
    {
     "name": "stdout",
     "output_type": "stream",
     "text": [
      "0 advic\n",
      "1 build\n",
      "2 challeng\n",
      "3 chat\n",
      "4 codementor\n",
      "5 connect\n",
      "6 dedic\n",
      "7 demand\n",
      "8 develop\n",
      "9 easi\n",
      "10 expert\n"
     ]
    }
   ],
   "source": [
    "'''\n",
    "Checking dictionary created\n",
    "'''\n",
    "count = 0\n",
    "for k, v in dictionary.iteritems():\n",
    "    print(k, v)\n",
    "    count += 1\n",
    "    if count > 10:\n",
    "        break"
   ]
  },
  {
   "cell_type": "code",
   "execution_count": null,
   "metadata": {},
   "outputs": [],
   "source": []
  },
  {
   "cell_type": "code",
   "execution_count": 24,
   "metadata": {},
   "outputs": [],
   "source": [
    "'''\n",
    "Create the Bag-of-words model for each document i.e for each document we create a dictionary reporting how many\n",
    "words and how many times those words appear. Save this to 'bow_corpus'\n",
    "'''\n",
    "bow_corpus = [dictionary.doc2bow(doc) for doc in wrangled_docs]"
   ]
  },
  {
   "cell_type": "code",
   "execution_count": 25,
   "metadata": {},
   "outputs": [],
   "source": [
    "# bow_corpus"
   ]
  },
  {
   "cell_type": "code",
   "execution_count": 26,
   "metadata": {
    "scrolled": true
   },
   "outputs": [
    {
     "name": "stdout",
     "output_type": "stream",
     "text": [
      "Word 18 (\"make\") appears 1 time.\n",
      "Word 23 (\"provid\") appears 1 time.\n",
      "Word 28 (\"softwar\") appears 1 time.\n",
      "Word 32 (\"time\") appears 2 time.\n",
      "Word 36 (\"accuraci\") appears 1 time.\n",
      "Word 37 (\"agshift\") appears 1 time.\n",
      "Word 38 (\"analyz\") appears 2 time.\n",
      "Word 39 (\"assess\") appears 1 time.\n",
      "Word 40 (\"augment\") appears 1 time.\n",
      "Word 41 (\"autonom\") appears 1 time.\n",
      "Word 42 (\"blend\") appears 1 time.\n",
      "Word 43 (\"chain\") appears 1 time.\n",
      "Word 44 (\"commod\") appears 1 time.\n",
      "Word 45 (\"consist\") appears 2 time.\n",
      "Word 46 (\"curat\") appears 1 time.\n",
      "Word 47 (\"data\") appears 1 time.\n",
      "Word 48 (\"deep\") appears 2 time.\n",
      "Word 49 (\"defect\") appears 3 time.\n",
      "Word 50 (\"extens\") appears 1 time.\n",
      "Word 51 (\"high\") appears 1 time.\n",
      "Word 52 (\"imag\") appears 2 time.\n",
      "Word 53 (\"inspect\") appears 2 time.\n",
      "Word 54 (\"interpret\") appears 1 time.\n",
      "Word 55 (\"judgement\") appears 1 time.\n",
      "Word 56 (\"learn\") appears 2 time.\n",
      "Word 57 (\"manual\") appears 1 time.\n",
      "Word 58 (\"model\") appears 1 time.\n",
      "Word 59 (\"object\") appears 1 time.\n",
      "Word 60 (\"organ\") appears 1 time.\n",
      "Word 61 (\"overal\") appears 1 time.\n",
      "Word 62 (\"patent\") appears 1 time.\n",
      "Word 63 (\"platform\") appears 1 time.\n",
      "Word 64 (\"predict\") appears 1 time.\n",
      "Word 65 (\"produc\") appears 1 time.\n",
      "Word 66 (\"qualiti\") appears 3 time.\n",
      "Word 67 (\"real\") appears 1 time.\n",
      "Word 68 (\"reli\") appears 1 time.\n",
      "Word 69 (\"sampl\") appears 2 time.\n",
      "Word 70 (\"set\") appears 1 time.\n",
      "Word 71 (\"singl\") appears 1 time.\n",
      "Word 72 (\"solut\") appears 2 time.\n",
      "Word 73 (\"specif\") appears 2 time.\n",
      "Word 74 (\"standard\") appears 1 time.\n",
      "Word 75 (\"suppli\") appears 1 time.\n",
      "Word 76 (\"teach\") appears 1 time.\n",
      "Word 77 (\"usda\") appears 1 time.\n",
      "Word 78 (\"vision\") appears 1 time.\n",
      "Word 79 (\"world\") appears 1 time.\n"
     ]
    }
   ],
   "source": [
    "'''\n",
    "Preview BOW for our sample preprocessed document\n",
    "'''\n",
    "document_num = 1\n",
    "bow_doc_x = bow_corpus[document_num]\n",
    "\n",
    "for i in range(len(bow_doc_x)):\n",
    "    print(\"Word {} (\\\"{}\\\") appears {} time.\".format(bow_doc_x[i][0], \n",
    "                                                     dictionary[bow_doc_x[i][0]], \n",
    "                                                     bow_doc_x[i][1]))"
   ]
  },
  {
   "cell_type": "code",
   "execution_count": 27,
   "metadata": {},
   "outputs": [],
   "source": [
    "# LDA multicore \n",
    "'''\n",
    "Train your lda model using gensim.models.LdaMulticore and save it to 'lda_model'\n",
    "'''\n",
    "num_topics = 27 # Specified\n",
    "lda_model =  gensim.models.LdaMulticore(bow_corpus, \n",
    "                                   num_topics = num_topics, \n",
    "                                   id2word = dictionary,                                    \n",
    "                                   passes = 10,\n",
    "                                   workers = 2)"
   ]
  },
  {
   "cell_type": "code",
   "execution_count": 28,
   "metadata": {},
   "outputs": [
    {
     "name": "stdout",
     "output_type": "stream",
     "text": [
      "[['compani', 'provid', 'technolog', 'busi', 'data', 'servic', 'product', 'develop', 'platform', 'base'], ['product', 'compani', 'custom', 'properti', 'provid', 'servic', 'base', 'technolog', 'user', 'media'], ['compani', 'product', 'servic', 'base', 'network', 'technolog', 'solut', 'provid', 'system', 'time'], ['provid', 'network', 'compani', 'care', 'health', 'onlin', 'platform', 'improv', 'xfire', 'high'], ['compani', 'media', 'restaur', 'build', 'platform', 'brand', 'digit', 'industri', 'technolog', 'time'], ['data', 'compani', 'provid', 'platform', 'solut', 'product', 'custom', 'softwar', 'manag', 'market'], ['credit', 'compani', 'platform', 'consum', 'design', 'offer', 'help', 'financ', 'custom', 'financi'], ['patient', 'deliveri', 'robot', 'diseas', 'medic', 'technolog', 'irobot', 'access', 'provid', 'medicin'], ['user', 'question', 'peopl', 'answer', 'compani', 'social', 'interest', 'process', 'share', 'help'], ['compani', 'digit', 'develop', 'busi', 'product', 'technolog', 'partner', 'advanc', 'deliv', 'music'], ['data', 'custom', 'solut', 'servic', 'provid', 'wireless', 'compani', 'technolog', 'enabl', 'enterpris'], ['manag', 'servic', 'secur', 'provid', 'solut', 'compani', 'applic', 'product', 'busi', 'offer'], ['busi', 'compani', 'market', 'custom', 'develop', 'user', 'platform', 'number', 'product', 'creat'], ['ventur', 'product', 'includ', 'assembl', 'compani', 'data', 'technolog', 'high', 'user', 'brand'], ['applic', 'market', 'provid', 'compani', 'base', 'data', 'solut', 'servic', 'platform', 'mobil'], ['develop', 'compani', 'product', 'softwar', 'applic', 'technolog', 'data', 'base', 'solut', 'provid'], ['secur', 'game', 'provid', 'compani', 'mobil', 'servic', 'network', 'develop', 'exent', 'industri'], ['market', 'platform', 'design', 'product', 'technolog', 'custom', 'provid', 'help', 'busi', 'social'], ['product', 'includ', 'oral', 'medic', 'provid', 'oncalert', 'test', 'virtual', 'peopl', 'cancer'], ['data', 'real', 'estat', 'home', 'zillow', 'applic', 'servic', 'learn', 'platform', 'technolog'], ['custom', 'busi', 'cloud', 'enabl', 'month', 'data', 'solar', 'compani', 'power', 'platform'], ['educ', 'platform', 'compani', 'manag', 'learn', 'creat', 'student', 'product', 'base', 'design'], ['servic', 'mobil', 'provid', 'compani', 'includ', 'base', 'world', 'technolog', 'custom', 'media'], ['develop', 'provid', 'diseas', 'content', 'servic', 'therapi', 'gene', 'compani', 'therapeut', 'technolog'], ['platform', 'compani', 'data', 'market', 'custom', 'network', 'time', 'provid', 'inform', 'work'], ['video', 'compani', 'ventur', 'creat', 'peopl', 'health', 'team', 'share', 'technolog', 'platform'], ['develop', 'product', 'market', 'solar', 'platform', 'technolog', 'diseas', 'care', 'provid', 'test']]\n"
     ]
    }
   ],
   "source": [
    "topic_list = []\n",
    "\n",
    "for i in range(num_topics):\n",
    "    inter_topic_list = []\n",
    "    for j in range(10):\n",
    "        inter_topic_list.append(lda_model.show_topic(i, 10)[j][0])\n",
    "    topic_list.append(inter_topic_list)\n",
    "\n",
    "print(topic_list)"
   ]
  },
  {
   "cell_type": "code",
   "execution_count": 29,
   "metadata": {},
   "outputs": [
    {
     "name": "stdout",
     "output_type": "stream",
     "text": [
      "['shipsi', 'empow', 'retail', 'abil', 'offer', 'easi', 'instant', 'ship', 'option', 'checkout', 'pagewithout', 'worri', 'logist', 'exist', 'infrastructur', 'mile', 'deliveri', 'network', 'help', 'custom', 'order', 'shipsi', 'found', 'headquart', 'california']\n"
     ]
    }
   ],
   "source": [
    "unseen_document = cmp_desc['wrangled_description'][2]\n",
    "print(unseen_document)"
   ]
  },
  {
   "cell_type": "code",
   "execution_count": 30,
   "metadata": {
    "scrolled": true
   },
   "outputs": [
    {
     "name": "stdout",
     "output_type": "stream",
     "text": [
      "Topic Number: 5\n",
      "Score: 0.6079071164131165\t Topic: 0.014*\"data\" + 0.012*\"compani\" + 0.010*\"provid\" + 0.010*\"platform\" + 0.010*\"solut\" + 0.009*\"product\" + 0.008*\"custom\" + 0.008*\"softwar\" + 0.008*\"manag\" + 0.008*\"market\"\n",
      "Topic Number: 25\n",
      "Score: 0.35647183656692505\t Topic: 0.016*\"video\" + 0.012*\"compani\" + 0.008*\"ventur\" + 0.007*\"creat\" + 0.007*\"peopl\" + 0.007*\"health\" + 0.007*\"team\" + 0.007*\"share\" + 0.007*\"technolog\" + 0.006*\"platform\"\n"
     ]
    }
   ],
   "source": [
    "# Data preprocessing step for the unseen document\n",
    "bow_vector = dictionary.doc2bow(unseen_document)\n",
    "\n",
    "for index, score in sorted(lda_model[bow_vector], key=lambda tup: -1*tup[1]):\n",
    "    print('Topic Number:', index)\n",
    "    print(\"Score: {}\\t Topic: {}\".format(score, lda_model.print_topic(index, 10)))"
   ]
  },
  {
   "cell_type": "code",
   "execution_count": 31,
   "metadata": {},
   "outputs": [
    {
     "data": {
      "text/plain": [
       "['credit',\n",
       " 'compani',\n",
       " 'platform',\n",
       " 'consum',\n",
       " 'design',\n",
       " 'offer',\n",
       " 'help',\n",
       " 'financ',\n",
       " 'custom',\n",
       " 'financi']"
      ]
     },
     "execution_count": 31,
     "metadata": {},
     "output_type": "execute_result"
    }
   ],
   "source": [
    "topic_list[6]"
   ]
  },
  {
   "cell_type": "code",
   "execution_count": 32,
   "metadata": {},
   "outputs": [],
   "source": [
    "cmp_desc['score'] = None\n",
    "cmp_desc['Topic_number'] = None\n",
    "cmp_desc['Topics_label'] = None"
   ]
  },
  {
   "cell_type": "code",
   "execution_count": 33,
   "metadata": {
    "scrolled": true
   },
   "outputs": [],
   "source": [
    "for i in range(cmp_desc.shape[0]):\n",
    "    unseen_document = cmp_desc['wrangled_description'][i]\n",
    "    bow_vector = dictionary.doc2bow(unseen_document)\n",
    "    \n",
    "    for index, score in sorted(lda_model[bow_vector], key=lambda tup: -1*tup[1]):\n",
    "        cmp_desc['score'][i] = score\n",
    "        cmp_desc['Topic_number'][i] = index\n",
    "        cmp_desc['Topics_label'][i] = topic_list[index]"
   ]
  },
  {
   "cell_type": "code",
   "execution_count": 34,
   "metadata": {},
   "outputs": [
    {
     "data": {
      "text/plain": [
       "Index(['company_name', 'company_short_description', 'company_description',\n",
       "       'len_text_company_description', 'len_text_company_short_description',\n",
       "       'final_company_description', 'wrangled_description', 'score',\n",
       "       'Topic_number', 'Topics_label'],\n",
       "      dtype='object')"
      ]
     },
     "execution_count": 34,
     "metadata": {},
     "output_type": "execute_result"
    }
   ],
   "source": [
    "cmp_desc.columns"
   ]
  },
  {
   "cell_type": "code",
   "execution_count": 35,
   "metadata": {},
   "outputs": [],
   "source": [
    "cmp_desc = cmp_desc[['company_name', 'company_short_description', 'company_description',\n",
    "       'final_company_description', 'wrangled_description', 'score',\n",
    "       'Topic_number', 'Topics_label']]"
   ]
  },
  {
   "cell_type": "code",
   "execution_count": 36,
   "metadata": {
    "scrolled": true
   },
   "outputs": [
    {
     "data": {
      "text/html": [
       "<div>\n",
       "<style scoped>\n",
       "    .dataframe tbody tr th:only-of-type {\n",
       "        vertical-align: middle;\n",
       "    }\n",
       "\n",
       "    .dataframe tbody tr th {\n",
       "        vertical-align: top;\n",
       "    }\n",
       "\n",
       "    .dataframe thead th {\n",
       "        text-align: right;\n",
       "    }\n",
       "</style>\n",
       "<table border=\"1\" class=\"dataframe\">\n",
       "  <thead>\n",
       "    <tr style=\"text-align: right;\">\n",
       "      <th></th>\n",
       "      <th>company_name</th>\n",
       "      <th>company_short_description</th>\n",
       "      <th>company_description</th>\n",
       "      <th>final_company_description</th>\n",
       "      <th>wrangled_description</th>\n",
       "      <th>score</th>\n",
       "      <th>Topic_number</th>\n",
       "      <th>Topics_label</th>\n",
       "    </tr>\n",
       "  </thead>\n",
       "  <tbody>\n",
       "    <tr>\n",
       "      <th>0</th>\n",
       "      <td>Codementor</td>\n",
       "      <td>Codementor is an online marketplace connecting...</td>\n",
       "      <td>Codementor provides live 1:1 help for software...</td>\n",
       "      <td>Codementor provides live 1:1 help for software...</td>\n",
       "      <td>[codementor, provid, live, help, softwar, deve...</td>\n",
       "      <td>0.115458</td>\n",
       "      <td>25</td>\n",
       "      <td>[video, compani, ventur, creat, peopl, health,...</td>\n",
       "    </tr>\n",
       "    <tr>\n",
       "      <th>1</th>\n",
       "      <td>AgShift</td>\n",
       "      <td>AgShift is designing world's most advanced aut...</td>\n",
       "      <td>AgShift solution blends Deep Learning with Com...</td>\n",
       "      <td>AgShift solution blends Deep Learning with Com...</td>\n",
       "      <td>[agshift, solut, blend, deep, learn, vision, a...</td>\n",
       "      <td>0.325258</td>\n",
       "      <td>10</td>\n",
       "      <td>[data, custom, solut, servic, provid, wireless...</td>\n",
       "    </tr>\n",
       "    <tr>\n",
       "      <th>2</th>\n",
       "      <td>Shipsi</td>\n",
       "      <td>Shipsi empowers any retailer with the ability ...</td>\n",
       "      <td>Shipsi empowers any retailer with the ability ...</td>\n",
       "      <td>Shipsi empowers any retailer with the ability ...</td>\n",
       "      <td>[shipsi, empow, retail, abil, offer, easi, ins...</td>\n",
       "      <td>0.356472</td>\n",
       "      <td>25</td>\n",
       "      <td>[video, compani, ventur, creat, peopl, health,...</td>\n",
       "    </tr>\n",
       "    <tr>\n",
       "      <th>3</th>\n",
       "      <td>OpenNews</td>\n",
       "      <td>OpenNews helps a global network of developers,...</td>\n",
       "      <td>We're helping a global network of developers, ...</td>\n",
       "      <td>We're helping a global network of developers, ...</td>\n",
       "      <td>[help, global, network, develop, journalist, m...</td>\n",
       "      <td>0.961475</td>\n",
       "      <td>24</td>\n",
       "      <td>[platform, compani, data, market, custom, netw...</td>\n",
       "    </tr>\n",
       "    <tr>\n",
       "      <th>4</th>\n",
       "      <td>Biobot Analytics</td>\n",
       "      <td>Biobot Analytics analyzes city sewage to estim...</td>\n",
       "      <td>Biobot Analytics analyzes sewage to estimate o...</td>\n",
       "      <td>Biobot Analytics analyzes sewage to estimate o...</td>\n",
       "      <td>[biobot, analyt, analyz, sewag, estim, opioid,...</td>\n",
       "      <td>0.982163</td>\n",
       "      <td>0</td>\n",
       "      <td>[compani, provid, technolog, busi, data, servi...</td>\n",
       "    </tr>\n",
       "  </tbody>\n",
       "</table>\n",
       "</div>"
      ],
      "text/plain": [
       "       company_name                          company_short_description  \\\n",
       "0        Codementor  Codementor is an online marketplace connecting...   \n",
       "1           AgShift  AgShift is designing world's most advanced aut...   \n",
       "2            Shipsi  Shipsi empowers any retailer with the ability ...   \n",
       "3          OpenNews  OpenNews helps a global network of developers,...   \n",
       "4  Biobot Analytics  Biobot Analytics analyzes city sewage to estim...   \n",
       "\n",
       "                                 company_description  \\\n",
       "0  Codementor provides live 1:1 help for software...   \n",
       "1  AgShift solution blends Deep Learning with Com...   \n",
       "2  Shipsi empowers any retailer with the ability ...   \n",
       "3  We're helping a global network of developers, ...   \n",
       "4  Biobot Analytics analyzes sewage to estimate o...   \n",
       "\n",
       "                           final_company_description  \\\n",
       "0  Codementor provides live 1:1 help for software...   \n",
       "1  AgShift solution blends Deep Learning with Com...   \n",
       "2  Shipsi empowers any retailer with the ability ...   \n",
       "3  We're helping a global network of developers, ...   \n",
       "4  Biobot Analytics analyzes sewage to estimate o...   \n",
       "\n",
       "                                wrangled_description     score Topic_number  \\\n",
       "0  [codementor, provid, live, help, softwar, deve...  0.115458           25   \n",
       "1  [agshift, solut, blend, deep, learn, vision, a...  0.325258           10   \n",
       "2  [shipsi, empow, retail, abil, offer, easi, ins...  0.356472           25   \n",
       "3  [help, global, network, develop, journalist, m...  0.961475           24   \n",
       "4  [biobot, analyt, analyz, sewag, estim, opioid,...  0.982163            0   \n",
       "\n",
       "                                        Topics_label  \n",
       "0  [video, compani, ventur, creat, peopl, health,...  \n",
       "1  [data, custom, solut, servic, provid, wireless...  \n",
       "2  [video, compani, ventur, creat, peopl, health,...  \n",
       "3  [platform, compani, data, market, custom, netw...  \n",
       "4  [compani, provid, technolog, busi, data, servi...  "
      ]
     },
     "execution_count": 36,
     "metadata": {},
     "output_type": "execute_result"
    }
   ],
   "source": [
    "cmp_desc.head()"
   ]
  },
  {
   "cell_type": "code",
   "execution_count": null,
   "metadata": {},
   "outputs": [],
   "source": []
  }
 ],
 "metadata": {
  "kernelspec": {
   "display_name": "Python 3",
   "language": "python",
   "name": "python3"
  },
  "language_info": {
   "codemirror_mode": {
    "name": "ipython",
    "version": 3
   },
   "file_extension": ".py",
   "mimetype": "text/x-python",
   "name": "python",
   "nbconvert_exporter": "python",
   "pygments_lexer": "ipython3",
   "version": "3.6.12"
  }
 },
 "nbformat": 4,
 "nbformat_minor": 4
}
